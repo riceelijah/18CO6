{
 "cells": [
  {
   "cell_type": "markdown",
   "id": "d9b601bd-43e8-4d3e-b733-c8a3e6d58fe1",
   "metadata": {},
   "source": [
    "# 18.C06 Pset 1\n",
    "\n",
    "A Julia (ipynb) version of this pdf file is available on the 18.C06 Canvas site in the Module labeled \"Problem Set Julia files\".\n",
    "\n",
    "Due Friday 9/13 at **11am**; 10% penalty if it is turned in within 24 hours, and after than late psets will not be accepted.   Submit in PDF format: a decent-quality scan/image of any handwritten solutions (e.g. get a scanner app on your phone or use a tablet), and a PDF printout of your Jupyter notebook showing your code and (clearly labeled) results.\n",
    "\n",
    "$\\color{red}{\\text{TO GENERATE A PDF OF YOUR JUPYTER NOTEBOOK, TRY THIS STRATEGY FIRST:}}$ From the File pull-down menu, select \"Save and Export Note Book As\", and then select the HTML format (IF YOU SELECT the PDF format, you will probably get error messages).  Then open the downloaded HTML file with your favorite browser, and use the browser's print function to generate the PDF file.\n"
   ]
  },
  {
   "cell_type": "markdown",
   "id": "bb78f0a6-ab3e-4720-836a-fa0bbda49865",
   "metadata": {},
   "source": [
    "## Problem 1 (3+3+3 points)\n",
    "\n",
    "Consider the linear system\n",
    "$$\n",
    "\\begin{pmatrix} 1 & 2 \\\\ 3 & \\alpha \\end{pmatrix} \\begin{pmatrix} x_1 \\\\ x_2 \\end{pmatrix} = \\begin{pmatrix} 5 \\\\ 15 \\end{pmatrix}\n",
    "$$\n",
    "\n",
    "For what values of the parameter $\\alpha$ (if any) does the linear system have:\n",
    "\n",
    "**(a)** a unique solution\n",
    "\n",
    "**(b)** no solutions\n",
    "\n",
    "**(c)** infinitely many solutions"
   ]
  },
  {
   "cell_type": "markdown",
   "id": "b11ce36d",
   "metadata": {},
   "source": [
    "## Problem 2 (5+5 points)\n",
    "\n",
    "(From Strang, section 2.2, problem 14.) Consider Gaussian elimination on the following system of equations:\n",
    "\n",
    "\\begin{align}\n",
    "2x + 5y + z &= 0 \\\\\n",
    "4x + dy + z &= 2 \\\\\n",
    "y - z &= 3\n",
    "\\end{align}\n",
    "\n",
    "(Write your solution in matrix form.)\n",
    "\n",
    "* What number $d$ forces you to do a row exchange during elimination, and what (non-singular) triangular system do you obtain for that $d$?\n",
    "* What value of $d$ would make this system singular (no third pivot, i.e. no way to get a triangular system with 3 nonzero values on the diagonal)?"
   ]
  },
  {
   "cell_type": "markdown",
   "id": "ee67e16b",
   "metadata": {},
   "source": [
    "## Problem 3 (5+5 points)\n",
    "\n",
    "Suppose that we know 3 data points $(t_1, b_1), (t_2,b_2), (t_3,b_3)$ of an unknown function $b(t)$, and we wish to construct a smooth interpolating function $c(t)$ that passes through these three points.   One nice technique that generalizes very well to lots of data points, and even to higher dimensions, is an interpolating function of the form:\n",
    "$$\n",
    "c(t) = x_1 r(t - t_1) + x_2 r(t - t_2) + x_3 r(t - t_3)\n",
    "$$\n",
    "where $r(t)$ is some decaying function.  For example, $r(t)$ could be the Gaussian (\"bell curve\"):\n",
    "$$\n",
    "r(t) = e^{-t^2 / R^2}\n",
    "$$\n",
    "for some radius $R$.  That is, we are making a linear combination of Gaussians centered at each point $t_k$.\n",
    "\n",
    "**(a)** If we require that $c(t)$ passes through all our data points (i.e. $c(t_k) = b_k$ for $k=1,2,3$), then you can write down a $3\\times 3$ system of equations $Ax = b$ for the vector $x$ of our unknown coefficients:\n",
    "$$\n",
    "\\underbrace{ \\begin{pmatrix} r(t_1 - t_1) & ? & ? \\\\ ? & ? & ? \\\\ ? & ? & ? \\end{pmatrix}}_A \n",
    "\\underbrace{ \\begin{pmatrix} x_1 \\\\ x_2 \\\\ x_3 \\end{pmatrix}}_x = \\underbrace{ \\begin{pmatrix} b_1 \\\\ b_2 \\\\ b_3 \\end{pmatrix}}_b\n",
    "$$\n",
    "What are the missing (\"?\") elements of $A$ (in terms of $r(t)$ and the $t_k$)?\n",
    "\n",
    "**(b)**\n",
    "\n",
    "Here are example values of $t$, $b$, and $R$ in Julia.  Fill in the missing (\"?\") elements of the matrix $A$.   Then, use `x = A \\ b` to solve $Ax=b$ for $x$ and modify the code below to plot the interpolant $c(t)$.\n",
    "\n",
    "One you fix the value of $x$ to the correct values, you should see that your interplant $c(t)$ **goes through the data points** (dots)."
   ]
  },
  {
   "cell_type": "code",
   "execution_count": 9,
   "id": "8e0715b8",
   "metadata": {},
   "outputs": [
    {
     "data": {
      "text/plain": [
       "r (generic function with 1 method)"
      ]
     },
     "metadata": {},
     "output_type": "display_data"
    }
   ],
   "source": [
    "t = [1, 2, 4] # example data points t₁, t₂, t₃\n",
    "b = [2, 1, 3] # example data points b₁, b₂, b₃\n",
    "R = 2 # example \"radius\" of the basis function\n",
    "r(t) = exp(-t^2 / R^2)"
   ]
  },
  {
   "cell_type": "code",
   "execution_count": 10,
   "id": "492c1eee",
   "metadata": {},
   "outputs": [
    {
     "data": {
      "text/plain": [
       "3×3 Matrix{Float64}:\n",
       " 1.0       0.778801  0.105399\n",
       " 0.778801  1.0       0.367879\n",
       " 0.105399  0.367879  1.0"
      ]
     },
     "metadata": {},
     "output_type": "display_data"
    }
   ],
   "source": [
    "\n",
    "A = [ r(t[1]-t[1]) r(t[1]-t[2]) r(t[1]-t[3])\n",
    "      r(t[2]-t[1]) r(t[2]-t[2]) r(t[2]-t[3])\n",
    "      r(t[3]-t[1]) r(t[3]-t[2]) r(t[3]-t[3])]"
   ]
  },
  {
   "cell_type": "code",
   "execution_count": 11,
   "id": "2b89da92",
   "metadata": {},
   "outputs": [
    {
     "data": {
      "text/plain": [
       "3-element Vector{Float64}:\n",
       "  4.985428520853115\n",
       " -4.386657445791713\n",
       "  4.088300789561882"
      ]
     },
     "metadata": {},
     "output_type": "display_data"
    }
   ],
   "source": [
    "x = A \\ b # solve Ax=b for x"
   ]
  },
  {
   "cell_type": "code",
   "execution_count": 12,
   "id": "e0afeb13",
   "metadata": {},
   "outputs": [
    {
     "data": {
      "text/plain": [
       "PyObject <matplotlib.legend.Legend object at 0x137db0bc0>"
      ]
     },
     "metadata": {},
     "output_type": "display_data"
    }
   ],
   "source": [
    "using PyPlot\n",
    "\n",
    "ts = range(0, 5, length=200) # 200 points from 0 to 5\n",
    "c(T, x, t) = x[1] * r(T - t[1]) + x[2] * r(T - t[2]) + x[3] * r(T - t[3]) # interpolating function ∑ xᵢ r(T - tᵢ)\n",
    "\n",
    "plot(t, b, \"bo\") # plot the input data\n",
    "xlim(0,5)\n",
    "ylim(0,4)\n",
    "xlabel(L\"t\")\n",
    "ylabel(L\"b\")\n",
    "title(\"problem 3(b): interpolation\")\n",
    "\n",
    "# delete this line to use x = A \\ b from above\n",
    "# x = [4,-4,4] # WRONG coefficients\n",
    "\n",
    "# plot the interpolant c(t)\n",
    "plot(ts, c.(ts, (x,), (t,)), \"b-\", linewidth=2)\n",
    "\n",
    "legend([\"data points\", \"interpolant\"])"
   ]
  },
  {
   "cell_type": "markdown",
   "id": "f87c6ade",
   "metadata": {},
   "source": [
    "## Problem 4 (3+3+3+3+3+3+3 points)\n",
    "\n",
    "Given a function $f(x)$, we can *sample* it at $n$ equally spaced points $x_1 = a, x_2 = a+\\Delta x, x_3 = a+2\\Delta x, \\ldots, x_n = a+(n-1)\\Delta x = b$ from $a$ to $b$ to obtain a column vector\n",
    "$$\n",
    "\\vec{f} = \\begin{pmatrix} f(x_1) \\\\ f(x_2) \\\\ \\vdots \\\\ f(x_n) \\end{pmatrix} = \\begin{pmatrix} f_1 \\\\ f_2 \\\\ \\vdots \\\\ f_n \\end{pmatrix} \\, ,\n",
    "$$\n",
    "where $f_k = f(x_k) = f(a + (k-1)\\Delta x)$."
   ]
  },
  {
   "cell_type": "markdown",
   "id": "2cf80b65",
   "metadata": {},
   "source": [
    "**(a)** An *approximate derivative* of $f(x)$ (called a [finite-difference approximation](https://en.wikipedia.org/wiki/Finite_difference)) is given by the *difference* operation:\n",
    "$$\n",
    "D\\vec{f} = \\frac{1}{\\Delta x} \\begin{pmatrix} f_2 - f_1 \\\\ f_3 - f_2 \\\\ \\vdots \\\\ f_n - f_{n-1} \\end{pmatrix}\n",
    "$$\n",
    "Write down this linear operator $D$ as a matrix (what size?) for $n=5$."
   ]
  },
  {
   "cell_type": "markdown",
   "id": "419734e9",
   "metadata": {},
   "source": [
    "**(b)** Construct the *same* $D$ matrix in Julia, for $\\Delta x = 1$, using the [`diagm` function](https://docs.julialang.org/en/v1/stdlib/LinearAlgebra/#LinearAlgebra.diagm) to build matrices out of diagonal entries, and the [`fill` function](https://docs.julialang.org/en/v1/base/arrays/#Base.fill) to make vectors filled with constants.  For example, this is a $6 \\times 8$ matrix with 1's, 4's, and 7's on three diagonals:"
   ]
  },
  {
   "cell_type": "code",
   "execution_count": 56,
   "id": "9a6a672a",
   "metadata": {},
   "outputs": [
    {
     "data": {
      "text/plain": [
       "6×8 Matrix{Int64}:\n",
       " 1  4  0  0  0  0  0  0\n",
       " 0  1  4  0  0  0  0  0\n",
       " 7  0  1  4  0  0  0  0\n",
       " 0  7  0  1  4  0  0  0\n",
       " 0  0  7  0  1  4  0  0\n",
       " 0  0  0  7  0  1  4  0"
      ]
     },
     "execution_count": 56,
     "metadata": {},
     "output_type": "execute_result"
    }
   ],
   "source": [
    "using LinearAlgebra\n",
    "diagm(6,8, 0 => fill(1,6), 1 => fill(4,6), -2 => fill(7,4))"
   ]
  },
  {
   "cell_type": "code",
   "execution_count": null,
   "id": "fc7c52b6",
   "metadata": {},
   "outputs": [],
   "source": [
    "D = ??? # FILL IN YOUR CODE HERE"
   ]
  },
  {
   "cell_type": "markdown",
   "id": "27dff195",
   "metadata": {},
   "source": [
    "**(c)** Use your same code to construct a $D$ matrix for $n=100$ and apply it to approximately differentate $f(x) = \\sin(x)$ for $a,b = 0,5$, and plot your result using the code below.  It should look like a cosine!"
   ]
  },
  {
   "cell_type": "code",
   "execution_count": null,
   "id": "a85c3799",
   "metadata": {},
   "outputs": [],
   "source": [
    "a, b = 0, 5\n",
    "n = 100\n",
    "Δx = (b - a) / (n - 1) # spacing for n points from a to b\n",
    "\n",
    "x = range(a, b, length=n) # array of n points from a to b\n",
    "f = sin.(x) # apply sin(x) elementwise to the vector x\n",
    "\n",
    "D = ??? # FILL IN YOUR CODE HERE\n",
    "\n",
    "# plot f and D*f\n",
    "using PyPlot\n",
    "plot(x, f, \"r-\")\n",
    "plot(x[1:end-1] .+ Δx/2, D*f, \"b-\")\n",
    "\n",
    "title(L\"$f(x) = \\sin(x)$ and approximate derivative\")\n",
    "xlabel(L\"x\")\n",
    "legend([L\"f(x)\", L\"df/dx\"])"
   ]
  },
  {
   "cell_type": "markdown",
   "id": "5f9b444a",
   "metadata": {},
   "source": [
    "**(d)** An *approximate integral* of a function $g(x)$ sampled at $m$ points with spacing $\\Delta x$ is given by a *sum*:\n",
    "$$\n",
    "S \\vec{g} = S \\underbrace{\\begin{pmatrix} g_1 \\\\ g_2 \\\\ \\vdots \\\\ g_m \\end{pmatrix}}_g = (g_1 + g_2 + \\cdots g_m) \\Delta x \\, ,\n",
    "$$\n",
    "where $g_k = g(x_k)$ similar to $\\vec{f}$.  Write the linear operator $S$ as a matrix for $m=6$."
   ]
  },
  {
   "cell_type": "markdown",
   "id": "41715366",
   "metadata": {},
   "source": [
    "**(e)** What is the product $S D$ for $n=6$ and $m = \\_\\_\\_\\_$ (for the same $\\Delta x$)?  (That is, the approximate \"integral of the derivative\" is what linear operator?)\n",
    "\n",
    "**(f)** Give a nonzero vector $\\vec{f}$ such that $D\\vec{f} = \\vec{0}$ (for the $n = 5$ case).   In fact, there are infinitely many such vectors because … ?\n",
    "\n",
    "**(g)** Your answer from part (f) implies that the last column of $D$ can be formed by what linear combination of the previous columns of $D$?"
   ]
  }
 ],
 "metadata": {
  "kernelspec": {
   "display_name": "Julia 1.10.5",
   "language": "julia",
   "name": "julia-1.10"
  },
  "language_info": {
   "file_extension": ".jl",
   "mimetype": "application/julia",
   "name": "julia",
   "version": "1.10.5"
  }
 },
 "nbformat": 4,
 "nbformat_minor": 5
}
